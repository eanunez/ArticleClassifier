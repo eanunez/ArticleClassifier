{
 "cells": [
  {
   "cell_type": "markdown",
   "metadata": {},
   "source": [
    "# One-Dimensional Convolutional Neutral Network\n",
    "\n",
    "This is to demonstrate a 1D CNN using Keras. The utility class accepts pandas dataframe as input for training and testing. \n",
    "\n",
    "## Load Packages"
   ]
  },
  {
   "cell_type": "code",
   "execution_count": 1,
   "metadata": {},
   "outputs": [
    {
     "name": "stderr",
     "output_type": "stream",
     "text": [
      "Using TensorFlow backend.\n"
     ]
    }
   ],
   "source": [
    "import pandas as pd\n",
    "from one_dim_cnn import OneDimCnn"
   ]
  },
  {
   "cell_type": "markdown",
   "metadata": {},
   "source": [
    "## Load Data\n",
    "Note: The datasets must be contained in csv file or dataframe with column names, 'input' and 'label'. "
   ]
  },
  {
   "cell_type": "code",
   "execution_count": 2,
   "metadata": {},
   "outputs": [],
   "source": [
    "path = 'data/training_set.csv'\n",
    "df = pd.read_csv(path, encoding='latin-1')"
   ]
  },
  {
   "cell_type": "code",
   "execution_count": 3,
   "metadata": {},
   "outputs": [
    {
     "name": "stdout",
     "output_type": "stream",
     "text": [
      "<class 'pandas.core.frame.DataFrame'>\n",
      "RangeIndex: 427 entries, 0 to 426\n",
      "Data columns (total 2 columns):\n",
      "input    427 non-null object\n",
      "label    427 non-null object\n",
      "dtypes: object(2)\n",
      "memory usage: 6.8+ KB\n"
     ]
    }
   ],
   "source": [
    "df.info()"
   ]
  },
  {
   "cell_type": "markdown",
   "metadata": {},
   "source": [
    "## Balanced Data\n",
    "Check the shape of data."
   ]
  },
  {
   "cell_type": "code",
   "execution_count": 4,
   "metadata": {},
   "outputs": [
    {
     "data": {
      "text/plain": [
       "((283, 2), (144, 2))"
      ]
     },
     "execution_count": 4,
     "metadata": {},
     "output_type": "execute_result"
    }
   ],
   "source": [
    "df[df.loc[:, 'label'] == 'celebrity'].shape, df[df.loc[:, 'label'] == 'non-celeb'].shape"
   ]
  },
  {
   "cell_type": "markdown",
   "metadata": {},
   "source": [
    "Create sub-dataframe with balanced data sets."
   ]
  },
  {
   "cell_type": "code",
   "execution_count": 5,
   "metadata": {},
   "outputs": [
    {
     "name": "stdout",
     "output_type": "stream",
     "text": [
      "<class 'pandas.core.frame.DataFrame'>\n",
      "Int64Index: 288 entries, 3 to 426\n",
      "Data columns (total 2 columns):\n",
      "input    288 non-null object\n",
      "label    288 non-null object\n",
      "dtypes: object(2)\n",
      "memory usage: 6.8+ KB\n"
     ]
    }
   ],
   "source": [
    "sub_df = df[df.loc[:, 'label'] == 'celebrity'].head(144)\n",
    "sub_df = sub_df.append(df[df.loc[:, 'label'] == 'non-celeb'])\n",
    "sub_df.info()"
   ]
  },
  {
   "cell_type": "code",
   "execution_count": 6,
   "metadata": {},
   "outputs": [
    {
     "data": {
      "text/plain": [
       "((144, 2), (144, 2))"
      ]
     },
     "execution_count": 6,
     "metadata": {},
     "output_type": "execute_result"
    }
   ],
   "source": [
    "sub_df[sub_df.loc[:, 'label'] == 'celebrity'].shape, sub_df[sub_df.loc[:, 'label'] == 'non-celeb'].shape"
   ]
  },
  {
   "cell_type": "markdown",
   "metadata": {},
   "source": [
    "## One-Dimensional CNN\n",
    "Initialize Model"
   ]
  },
  {
   "cell_type": "code",
   "execution_count": 6,
   "metadata": {},
   "outputs": [
    {
     "name": "stdout",
     "output_type": "stream",
     "text": [
      "{'epochs': 10, 'hidden_dims': 250, 'kernel_size': 3, 'filters': 250, 'embedding_dims': 50, 'batch_size': 32, 'maxlen': 500, 'max_features': 100000.0, 'self': <one_dim_cnn.OneDimCnn object at 0x000002791A477B00>}\n"
     ]
    }
   ],
   "source": [
    "cnn = OneDimCnn()"
   ]
  },
  {
   "cell_type": "code",
   "execution_count": 7,
   "metadata": {},
   "outputs": [
    {
     "name": "stdout",
     "output_type": "stream",
     "text": [
      "Loading data...\n",
      "Train shape:  (217, 500)\n",
      "Test shape:  (72, 500)\n",
      "Building model...\n",
      "_________________________________________________________________\n",
      "Layer (type)                 Output Shape              Param #   \n",
      "=================================================================\n",
      "embedding_1 (Embedding)      (None, 500, 50)           5000000   \n",
      "_________________________________________________________________\n",
      "dropout_1 (Dropout)          (None, 500, 50)           0         \n",
      "_________________________________________________________________\n",
      "conv1d_1 (Conv1D)            (None, 498, 250)          37750     \n",
      "_________________________________________________________________\n",
      "global_max_pooling1d_1 (Glob (None, 250)               0         \n",
      "_________________________________________________________________\n",
      "dense_1 (Dense)              (None, 250)               62750     \n",
      "_________________________________________________________________\n",
      "dropout_2 (Dropout)          (None, 250)               0         \n",
      "_________________________________________________________________\n",
      "activation_1 (Activation)    (None, 250)               0         \n",
      "_________________________________________________________________\n",
      "dense_2 (Dense)              (None, 1)                 251       \n",
      "=================================================================\n",
      "Total params: 5,100,751\n",
      "Trainable params: 5,100,751\n",
      "Non-trainable params: 0\n",
      "_________________________________________________________________\n",
      "None\n",
      "Train on 217 samples, validate on 72 samples\n",
      "Epoch 1/10\n",
      "217/217 [==============================] - 6s 29ms/step - loss: 0.6962 - acc: 0.5023 - val_loss: 0.7217 - val_acc: 0.3750\n",
      "Epoch 2/10\n",
      "217/217 [==============================] - 4s 18ms/step - loss: 0.6837 - acc: 0.5392 - val_loss: 0.7008 - val_acc: 0.3750\n",
      "Epoch 3/10\n",
      "217/217 [==============================] - 4s 20ms/step - loss: 0.6751 - acc: 0.5622 - val_loss: 0.6918 - val_acc: 0.3750\n",
      "Epoch 4/10\n",
      "217/217 [==============================] - 4s 19ms/step - loss: 0.6532 - acc: 0.5576 - val_loss: 0.6858 - val_acc: 0.3750\n",
      "Epoch 5/10\n",
      "217/217 [==============================] - 4s 19ms/step - loss: 0.6240 - acc: 0.6544 - val_loss: 0.6568 - val_acc: 0.5000\n",
      "Epoch 6/10\n",
      "217/217 [==============================] - 4s 18ms/step - loss: 0.5640 - acc: 0.8571 - val_loss: 0.5944 - val_acc: 0.7778\n",
      "Epoch 7/10\n",
      "217/217 [==============================] - 4s 18ms/step - loss: 0.4737 - acc: 0.8940 - val_loss: 0.4955 - val_acc: 0.8889\n",
      "Epoch 8/10\n",
      "217/217 [==============================] - 4s 20ms/step - loss: 0.3610 - acc: 0.9124 - val_loss: 0.4214 - val_acc: 0.8750\n",
      "Epoch 9/10\n",
      "217/217 [==============================] - 4s 19ms/step - loss: 0.2756 - acc: 0.9078 - val_loss: 0.3585 - val_acc: 0.8750\n",
      "Epoch 10/10\n",
      "217/217 [==============================] - 4s 20ms/step - loss: 0.1895 - acc: 0.9217 - val_loss: 0.3243 - val_acc: 0.8889\n"
     ]
    }
   ],
   "source": [
    "tokenizer, model = cnn.train(sub_df, save=True) # Set save=True if you want to save the model, Default: False"
   ]
  },
  {
   "cell_type": "markdown",
   "metadata": {},
   "source": [
    "You can find from the above example that the validated accuracy in ~89%."
   ]
  }
 ],
 "metadata": {
  "kernelspec": {
   "display_name": "Python 3",
   "language": "python",
   "name": "python3"
  },
  "language_info": {
   "codemirror_mode": {
    "name": "ipython",
    "version": 3
   },
   "file_extension": ".py",
   "mimetype": "text/x-python",
   "name": "python",
   "nbconvert_exporter": "python",
   "pygments_lexer": "ipython3",
   "version": "3.6.5"
  }
 },
 "nbformat": 4,
 "nbformat_minor": 2
}
