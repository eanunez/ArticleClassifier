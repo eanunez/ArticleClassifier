{
 "cells": [
  {
   "cell_type": "markdown",
   "metadata": {},
   "source": [
    "# BBC Classifier\n",
    "\n",
    "\n",
    "In this demo, we will create a classifier using SKLearn based from the available data set from BBC. The raw files can be downloaded here:\n",
    "http://mlg.ucd.ie/datasets/bbc.html.\n",
    "\n",
    "When we unzip the folder, bbc has subdirectories namely; business, entertainment, politics, sport and tech. We can use these folders as our target categories or labels. Each folder contains files belonged to the category.\n",
    "\n",
    "\n",
    "Note: README text file is removed for convinient parsing and contains.\n",
    "Consists of 2225 documents from the BBC news website corresponding to stories in five topical areas from 2004-2005.\n",
    "Natural Classes: 5 (business, entertainment, politics, sport, tech)\n",
    "\n",
    "If you make use of the dataset, please consider citing the publication: \n",
    "- D. Greene and P. Cunningham. \"Practical Solutions to the Problem of Diagonal Dominance in Kernel Document Clustering\", Proc. ICML 2006.\n",
    "\n",
    "All rights, including copyright, in the content of the original articles are owned by the BBC.\n",
    "\n",
    "Contact Derek Greene <derek.greene@ucd.ie> for further information.\n",
    "http://mlg.ucd.ie/datasets/bbc.html\n",
    "\n",
    "\n",
    "\n",
    "## Loading Packages\n",
    "A pre-defined ArticleClassifier class is also loaded."
   ]
  },
  {
   "cell_type": "code",
   "execution_count": 10,
   "metadata": {},
   "outputs": [],
   "source": [
    "import sys\n",
    "import os\n",
    "sys.path.insert(0, 'C:/summit_server/BusinessAnalytics')\n",
    "from jupyter_files.bow.article_classifier import ArticleClassifier\n",
    "import pandas as pd\n",
    "from sklearn.externals import joblib"
   ]
  },
  {
   "cell_type": "markdown",
   "metadata": {},
   "source": [
    "## Loading the Data\n",
    "\n",
    "Let us check first if we have the desired list of folders in our path, 'bbc'"
   ]
  },
  {
   "cell_type": "code",
   "execution_count": 2,
   "metadata": {},
   "outputs": [
    {
     "data": {
      "text/plain": [
       "['business', 'entertainment', 'politics', 'sport', 'tech']"
      ]
     },
     "execution_count": 2,
     "metadata": {},
     "output_type": "execute_result"
    }
   ],
   "source": [
    "dir_list = os.listdir(os.path.abspath('bbc'))\n",
    "dir_list"
   ]
  },
  {
   "cell_type": "markdown",
   "metadata": {},
   "source": [
    "Great! We see that we have the 5 lists of categories that later we will use as labels.\n",
    "Now, Let us define a function that scans all the contents for each category and list them all in pandas dataframe."
   ]
  },
  {
   "cell_type": "code",
   "execution_count": 3,
   "metadata": {},
   "outputs": [],
   "source": [
    "def loader(path):\n",
    "    \"\"\"Input contents to dataframe with corresponding label.\"\"\"\n",
    "    data = pd.DataFrame([], columns=['input', 'label'])\n",
    "    for folder in dir_list:\n",
    "        file_list = os.listdir(os.path.abspath(path + '/' + folder))\n",
    "        for f in file_list:\n",
    "            with open(path + '/'+ folder + '/' + f, 'r', newline='') as f:\n",
    "                data.loc[data['input'].shape[0] + 1,'input'] = f.read().strip()\n",
    "                data.loc[data['input'].shape[0], 'label'] = str(folder)\n",
    "    return data"
   ]
  },
  {
   "cell_type": "markdown",
   "metadata": {},
   "source": [
    "Let us check our dataframe."
   ]
  },
  {
   "cell_type": "code",
   "execution_count": 4,
   "metadata": {},
   "outputs": [
    {
     "name": "stdout",
     "output_type": "stream",
     "text": [
      "<class 'pandas.core.frame.DataFrame'>\n",
      "Int64Index: 2225 entries, 1 to 2225\n",
      "Data columns (total 2 columns):\n",
      "input    2225 non-null object\n",
      "label    2225 non-null object\n",
      "dtypes: object(2)\n",
      "memory usage: 98.8+ KB\n"
     ]
    }
   ],
   "source": [
    "df = loader('bbc')\n",
    "df.info()"
   ]
  },
  {
   "cell_type": "code",
   "execution_count": 5,
   "metadata": {},
   "outputs": [
    {
     "data": {
      "text/html": [
       "<div>\n",
       "<style scoped>\n",
       "    .dataframe tbody tr th:only-of-type {\n",
       "        vertical-align: middle;\n",
       "    }\n",
       "\n",
       "    .dataframe tbody tr th {\n",
       "        vertical-align: top;\n",
       "    }\n",
       "\n",
       "    .dataframe thead th {\n",
       "        text-align: right;\n",
       "    }\n",
       "</style>\n",
       "<table border=\"1\" class=\"dataframe\">\n",
       "  <thead>\n",
       "    <tr style=\"text-align: right;\">\n",
       "      <th></th>\n",
       "      <th>input</th>\n",
       "      <th>label</th>\n",
       "    </tr>\n",
       "  </thead>\n",
       "  <tbody>\n",
       "    <tr>\n",
       "      <th>1</th>\n",
       "      <td>Ad sales boost Time Warner profit\\n\\nQuarterly...</td>\n",
       "      <td>business</td>\n",
       "    </tr>\n",
       "    <tr>\n",
       "      <th>2</th>\n",
       "      <td>Dollar gains on Greenspan speech\\n\\nThe dollar...</td>\n",
       "      <td>business</td>\n",
       "    </tr>\n",
       "    <tr>\n",
       "      <th>3</th>\n",
       "      <td>Yukos unit buyer faces loan claim\\n\\nThe owner...</td>\n",
       "      <td>business</td>\n",
       "    </tr>\n",
       "    <tr>\n",
       "      <th>4</th>\n",
       "      <td>High fuel prices hit BA's profits\\n\\nBritish A...</td>\n",
       "      <td>business</td>\n",
       "    </tr>\n",
       "    <tr>\n",
       "      <th>5</th>\n",
       "      <td>Pernod takeover talk lifts Domecq\\n\\nShares in...</td>\n",
       "      <td>business</td>\n",
       "    </tr>\n",
       "  </tbody>\n",
       "</table>\n",
       "</div>"
      ],
      "text/plain": [
       "                                               input     label\n",
       "1  Ad sales boost Time Warner profit\\n\\nQuarterly...  business\n",
       "2  Dollar gains on Greenspan speech\\n\\nThe dollar...  business\n",
       "3  Yukos unit buyer faces loan claim\\n\\nThe owner...  business\n",
       "4  High fuel prices hit BA's profits\\n\\nBritish A...  business\n",
       "5  Pernod takeover talk lifts Domecq\\n\\nShares in...  business"
      ]
     },
     "execution_count": 5,
     "metadata": {},
     "output_type": "execute_result"
    }
   ],
   "source": [
    "df.head(5)"
   ]
  },
  {
   "cell_type": "markdown",
   "metadata": {},
   "source": [
    "We can see from the above lines that there are 2225 entries which correspond to the number of documents. We also show the first 5 entries in the dataframe.\n",
    "Now, we want our test set to have samples for every category. Hence, we shuffle the data set before we can divide it into train and test sets. "
   ]
  },
  {
   "cell_type": "code",
   "execution_count": 6,
   "metadata": {},
   "outputs": [
    {
     "data": {
      "text/html": [
       "<div>\n",
       "<style scoped>\n",
       "    .dataframe tbody tr th:only-of-type {\n",
       "        vertical-align: middle;\n",
       "    }\n",
       "\n",
       "    .dataframe tbody tr th {\n",
       "        vertical-align: top;\n",
       "    }\n",
       "\n",
       "    .dataframe thead th {\n",
       "        text-align: right;\n",
       "    }\n",
       "</style>\n",
       "<table border=\"1\" class=\"dataframe\">\n",
       "  <thead>\n",
       "    <tr style=\"text-align: right;\">\n",
       "      <th></th>\n",
       "      <th>input</th>\n",
       "      <th>label</th>\n",
       "    </tr>\n",
       "  </thead>\n",
       "  <tbody>\n",
       "    <tr>\n",
       "      <th>0</th>\n",
       "      <td>Sony wares win innovation award\\n\\nSony has ta...</td>\n",
       "      <td>tech</td>\n",
       "    </tr>\n",
       "    <tr>\n",
       "      <th>1</th>\n",
       "      <td>EU referendum question unveiled\\n\\nThe questio...</td>\n",
       "      <td>politics</td>\n",
       "    </tr>\n",
       "    <tr>\n",
       "      <th>2</th>\n",
       "      <td>Volcano drama erupts on BBC One\\n\\nSupervolcan...</td>\n",
       "      <td>entertainment</td>\n",
       "    </tr>\n",
       "    <tr>\n",
       "      <th>3</th>\n",
       "      <td>US blogger fired by her airline\\n\\nA US airlin...</td>\n",
       "      <td>tech</td>\n",
       "    </tr>\n",
       "    <tr>\n",
       "      <th>4</th>\n",
       "      <td>Markets signal Brazilian recovery\\n\\nThe Brazi...</td>\n",
       "      <td>business</td>\n",
       "    </tr>\n",
       "  </tbody>\n",
       "</table>\n",
       "</div>"
      ],
      "text/plain": [
       "                                               input          label\n",
       "0  Sony wares win innovation award\\n\\nSony has ta...           tech\n",
       "1  EU referendum question unveiled\\n\\nThe questio...       politics\n",
       "2  Volcano drama erupts on BBC One\\n\\nSupervolcan...  entertainment\n",
       "3  US blogger fired by her airline\\n\\nA US airlin...           tech\n",
       "4  Markets signal Brazilian recovery\\n\\nThe Brazi...       business"
      ]
     },
     "execution_count": 6,
     "metadata": {},
     "output_type": "execute_result"
    }
   ],
   "source": [
    "df = df.sample(frac=1).reset_index(drop=True)\n",
    "df.head(5)"
   ]
  },
  {
   "cell_type": "markdown",
   "metadata": {},
   "source": [
    "Again, we checked the first 5 entries and showed that data set is now randomized.\n",
    "\n",
    "## Classifier\n",
    "Now that our training data is set, let us create a classifier. We first initialize our pre-built class, 'ArticleClassifier'. Then, let's extract some features and test which model performs best."
   ]
  },
  {
   "cell_type": "code",
   "execution_count": 7,
   "metadata": {},
   "outputs": [
    {
     "name": "stdout",
     "output_type": "stream",
     "text": [
      "Extracting features from the training data using a sparse vectorizer\n",
      "Training set:  1780\n",
      "Testing set:  445\n",
      "done in 0.569614s at 3124.924MB/s\n",
      "n_samples: 1780, n_features: 26618\n",
      "\n",
      "Extracting features from the test data using the same vectorizer\n",
      "done in 0.115967s at 3837.313MB/s\n",
      "n_samples: 445, n_features: 26618\n",
      "\n",
      "Saved  C:\\summit_server\\BusinessAnalytics\\jupyter_files\\bow\\bbc\\vectorizer.pkl\n"
     ]
    },
    {
     "data": {
      "text/plain": [
       "((1780, 26618), (445, 26618))"
      ]
     },
     "execution_count": 7,
     "metadata": {},
     "output_type": "execute_result"
    }
   ],
   "source": [
    "classifier = ArticleClassifier(plot=True)\n",
    "classifier.extract_features(df, store_vect=True)\n",
    "classifier.X_train.shape, classifier.X_test.shape"
   ]
  },
  {
   "cell_type": "markdown",
   "metadata": {},
   "source": [
    "From the above lines, we initialized the classifier object with a parameter plot set to True. Then we extract the features and save the vectorizer for later use.\n",
    "The output shows that we have 1780 data set extracted for training and 445 for testing. The corresponding train and test labels are stored in the classifier attributes as y_train and y_test, respectively. "
   ]
  },
  {
   "cell_type": "code",
   "execution_count": 8,
   "metadata": {},
   "outputs": [
    {
     "name": "stdout",
     "output_type": "stream",
     "text": [
      "================================================================================\n",
      "Ridge Classifier\n",
      "________________________________________________________________________________\n",
      "Training: \n",
      "RidgeClassifier(alpha=1.0, class_weight=None, copy_X=True, fit_intercept=True,\n",
      "        max_iter=None, normalize=False, random_state=None, solver='lsqr',\n",
      "        tol=0.01)\n"
     ]
    },
    {
     "name": "stderr",
     "output_type": "stream",
     "text": [
      "c:\\users\\administrator\\summit\\venv\\lib\\site-packages\\sklearn\\linear_model\\ridge.py:319: UserWarning: In Ridge, only 'sag' solver can currently fit the intercept when X is sparse. Solver has been automatically changed into 'sag'.\n",
      "  warnings.warn(\"In Ridge, only 'sag' solver can currently fit the \"\n"
     ]
    },
    {
     "name": "stdout",
     "output_type": "stream",
     "text": [
      "train time: 0.300s\n",
      "test time:  0.000s\n",
      "accuracy:   0.991\n",
      "dimensionality: 26618\n",
      "density: 1.000000\n",
      "\n",
      "\n",
      "================================================================================\n",
      "Perceptron\n",
      "________________________________________________________________________________\n",
      "Training: \n",
      "Perceptron(alpha=0.0001, class_weight=None, eta0=1.0, fit_intercept=True,\n",
      "      max_iter=None, n_iter=50, n_jobs=1, penalty=None, random_state=0,\n",
      "      shuffle=True, tol=None, verbose=0, warm_start=False)\n",
      "train time: 0.133s\n",
      "test time:  0.000s\n",
      "accuracy:   0.987\n",
      "dimensionality: 26618\n",
      "density: 0.229183\n",
      "\n",
      "\n",
      "================================================================================\n",
      "Passive-Aggressive\n",
      "________________________________________________________________________________\n",
      "Training: \n",
      "PassiveAggressiveClassifier(C=1.0, average=False, class_weight=None,\n",
      "              fit_intercept=True, loss='hinge', max_iter=None, n_iter=50,\n",
      "              n_jobs=1, random_state=None, shuffle=True, tol=None,\n",
      "              verbose=0, warm_start=False)\n"
     ]
    },
    {
     "name": "stderr",
     "output_type": "stream",
     "text": [
      "c:\\users\\administrator\\summit\\venv\\lib\\site-packages\\sklearn\\linear_model\\stochastic_gradient.py:117: DeprecationWarning: n_iter parameter is deprecated in 0.19 and will be removed in 0.21. Use max_iter and tol instead.\n",
      "  DeprecationWarning)\n",
      "c:\\users\\administrator\\summit\\venv\\lib\\site-packages\\sklearn\\linear_model\\stochastic_gradient.py:117: DeprecationWarning: n_iter parameter is deprecated in 0.19 and will be removed in 0.21. Use max_iter and tol instead.\n",
      "  DeprecationWarning)\n"
     ]
    },
    {
     "name": "stdout",
     "output_type": "stream",
     "text": [
      "train time: 0.198s\n",
      "test time:  0.016s\n",
      "accuracy:   0.993\n",
      "dimensionality: 26618\n",
      "density: 0.708175\n",
      "\n",
      "\n",
      "================================================================================\n",
      "kNN\n",
      "________________________________________________________________________________\n",
      "Training: \n",
      "KNeighborsClassifier(algorithm='auto', leaf_size=30, metric='minkowski',\n",
      "           metric_params=None, n_jobs=1, n_neighbors=10, p=2,\n",
      "           weights='uniform')\n",
      "train time: 0.000s\n",
      "test time:  0.053s\n",
      "accuracy:   0.982\n",
      "\n",
      "================================================================================\n",
      "Random forest\n",
      "________________________________________________________________________________\n",
      "Training: \n",
      "RandomForestClassifier(bootstrap=True, class_weight=None, criterion='gini',\n",
      "            max_depth=None, max_features='auto', max_leaf_nodes=None,\n",
      "            min_impurity_decrease=0.0, min_impurity_split=None,\n",
      "            min_samples_leaf=1, min_samples_split=2,\n",
      "            min_weight_fraction_leaf=0.0, n_estimators=100, n_jobs=1,\n",
      "            oob_score=False, random_state=None, verbose=0,\n",
      "            warm_start=False)\n",
      "train time: 1.783s\n",
      "test time:  0.034s\n",
      "accuracy:   0.971\n",
      "\n",
      "================================================================================\n",
      "L2 penalty\n",
      "________________________________________________________________________________\n",
      "Training: \n",
      "LinearSVC(C=1.0, class_weight=None, dual=False, fit_intercept=True,\n",
      "     intercept_scaling=1, loss='squared_hinge', max_iter=1000,\n",
      "     multi_class='ovr', penalty='l2', random_state=None, tol=0.001,\n",
      "     verbose=0)\n",
      "train time: 0.160s\n",
      "test time:  0.000s\n",
      "accuracy:   0.996\n",
      "dimensionality: 26618\n",
      "density: 1.000000\n",
      "\n",
      "\n",
      "________________________________________________________________________________\n",
      "Training: \n",
      "SGDClassifier(alpha=0.0001, average=False, class_weight=None, epsilon=0.1,\n",
      "       eta0=0.0, fit_intercept=True, l1_ratio=0.15,\n",
      "       learning_rate='optimal', loss='hinge', max_iter=None, n_iter=50,\n",
      "       n_jobs=1, penalty='l2', power_t=0.5, random_state=None,\n",
      "       shuffle=True, tol=None, verbose=0, warm_start=False)\n",
      "train time: 0.131s\n",
      "test time:  0.000s\n",
      "accuracy:   0.989\n",
      "dimensionality: 26618\n",
      "density: 0.667150\n",
      "\n",
      "\n",
      "================================================================================\n",
      "L1 penalty\n",
      "________________________________________________________________________________\n",
      "Training: \n",
      "LinearSVC(C=1.0, class_weight=None, dual=False, fit_intercept=True,\n",
      "     intercept_scaling=1, loss='squared_hinge', max_iter=1000,\n",
      "     multi_class='ovr', penalty='l1', random_state=None, tol=0.001,\n",
      "     verbose=0)\n"
     ]
    },
    {
     "name": "stderr",
     "output_type": "stream",
     "text": [
      "c:\\users\\administrator\\summit\\venv\\lib\\site-packages\\sklearn\\linear_model\\stochastic_gradient.py:117: DeprecationWarning: n_iter parameter is deprecated in 0.19 and will be removed in 0.21. Use max_iter and tol instead.\n",
      "  DeprecationWarning)\n"
     ]
    },
    {
     "name": "stdout",
     "output_type": "stream",
     "text": [
      "train time: 0.217s\n",
      "test time:  0.001s\n",
      "accuracy:   0.987\n",
      "dimensionality: 26618\n",
      "density: 0.004193\n",
      "\n",
      "\n",
      "________________________________________________________________________________\n",
      "Training: \n",
      "SGDClassifier(alpha=0.0001, average=False, class_weight=None, epsilon=0.1,\n",
      "       eta0=0.0, fit_intercept=True, l1_ratio=0.15,\n",
      "       learning_rate='optimal', loss='hinge', max_iter=None, n_iter=50,\n",
      "       n_jobs=1, penalty='l1', power_t=0.5, random_state=None,\n",
      "       shuffle=True, tol=None, verbose=0, warm_start=False)\n"
     ]
    },
    {
     "name": "stderr",
     "output_type": "stream",
     "text": [
      "c:\\users\\administrator\\summit\\venv\\lib\\site-packages\\sklearn\\linear_model\\stochastic_gradient.py:117: DeprecationWarning: n_iter parameter is deprecated in 0.19 and will be removed in 0.21. Use max_iter and tol instead.\n",
      "  DeprecationWarning)\n"
     ]
    },
    {
     "name": "stdout",
     "output_type": "stream",
     "text": [
      "train time: 0.402s\n",
      "test time:  0.001s\n",
      "accuracy:   0.987\n",
      "dimensionality: 26618\n",
      "density: 0.016185\n",
      "\n",
      "\n",
      "================================================================================\n",
      "Elastic-Net penalty\n",
      "________________________________________________________________________________\n",
      "Training: \n",
      "SGDClassifier(alpha=0.0001, average=False, class_weight=None, epsilon=0.1,\n",
      "       eta0=0.0, fit_intercept=True, l1_ratio=0.15,\n",
      "       learning_rate='optimal', loss='hinge', max_iter=None, n_iter=50,\n",
      "       n_jobs=1, penalty='elasticnet', power_t=0.5, random_state=None,\n",
      "       shuffle=True, tol=None, verbose=0, warm_start=False)\n"
     ]
    },
    {
     "name": "stderr",
     "output_type": "stream",
     "text": [
      "c:\\users\\administrator\\summit\\venv\\lib\\site-packages\\sklearn\\linear_model\\stochastic_gradient.py:117: DeprecationWarning: n_iter parameter is deprecated in 0.19 and will be removed in 0.21. Use max_iter and tol instead.\n",
      "  DeprecationWarning)\n"
     ]
    },
    {
     "name": "stdout",
     "output_type": "stream",
     "text": [
      "train time: 0.684s\n",
      "test time:  0.002s\n",
      "accuracy:   0.989\n",
      "dimensionality: 26618\n",
      "density: 0.161132\n",
      "\n",
      "\n",
      "================================================================================\n",
      "NearestCentroid (aka Rocchio classifier)\n",
      "________________________________________________________________________________\n",
      "Training: \n",
      "NearestCentroid(metric='euclidean', shrink_threshold=None)\n",
      "train time: 0.009s\n",
      "test time:  0.000s\n",
      "accuracy:   0.973\n",
      "\n",
      "================================================================================\n",
      "Naive Bayes\n",
      "________________________________________________________________________________\n",
      "Training: \n",
      "MultinomialNB(alpha=0.01, class_prior=None, fit_prior=True)\n",
      "train time: 0.000s\n",
      "test time:  0.016s\n",
      "accuracy:   0.984\n",
      "dimensionality: 26618\n",
      "density: 1.000000\n",
      "\n",
      "\n",
      "________________________________________________________________________________\n",
      "Training: \n",
      "BernoulliNB(alpha=0.01, binarize=0.0, class_prior=None, fit_prior=True)\n",
      "train time: 0.016s\n",
      "test time:  0.000s\n",
      "accuracy:   0.973\n",
      "dimensionality: 26618\n",
      "density: 1.000000\n",
      "\n",
      "\n",
      "================================================================================\n",
      "LinearSVC with L1-based feature selection\n",
      "________________________________________________________________________________\n",
      "Training: \n",
      "Pipeline(memory=None,\n",
      "     steps=[('feature_selection', SelectFromModel(estimator=LinearSVC(C=1.0, class_weight=None, dual=False, fit_intercept=True,\n",
      "     intercept_scaling=1, loss='squared_hinge', max_iter=1000,\n",
      "     multi_class='ovr', penalty='l1', random_state=None, tol=0.001,\n",
      "     verbose=0),\n",
      "        norm_order=1, prefit=...ax_iter=1000,\n",
      "     multi_class='ovr', penalty='l2', random_state=None, tol=0.0001,\n",
      "     verbose=0))])\n",
      "train time: 0.240s\n",
      "test time:  0.000s\n",
      "accuracy:   0.989\n",
      "\n"
     ]
    },
    {
     "data": {
      "image/png": "[encoded data removed]",
      "text/plain": [
       "<Figure size 864x576 with 1 Axes>"
      ]
     },
     "metadata": {},
     "output_type": "display_data"
    },
    {
     "data": {
      "text/plain": [
       "[('RidgeClassifier', 0.9910112359550561, 0.3004786968231201, 0.0),\n",
       " ('Perceptron', 0.9865168539325843, 0.13333344459533691, 0.0),\n",
       " ('PassiveAggressiveClassifier',\n",
       "  0.9932584269662922,\n",
       "  0.19795513153076172,\n",
       "  0.015651941299438477),\n",
       " ('KNeighborsClassifier', 0.9820224719101124, 0.0, 0.05297660827636719),\n",
       " ('RandomForestClassifier',\n",
       "  0.9707865168539326,\n",
       "  1.7828903198242188,\n",
       "  0.03361701965332031),\n",
       " ('LinearSVC', 0.9955056179775281, 0.1596202850341797, 0.0),\n",
       " ('SGDClassifier', 0.9887640449438202, 0.13146662712097168, 0.0),\n",
       " ('LinearSVC', 0.9865168539325843, 0.21695637702941895, 0.0009996891021728516),\n",
       " ('SGDClassifier',\n",
       "  0.9865168539325843,\n",
       "  0.4021480083465576,\n",
       "  0.0011272430419921875),\n",
       " ('SGDClassifier',\n",
       "  0.9887640449438202,\n",
       "  0.6842203140258789,\n",
       "  0.001974821090698242),\n",
       " ('NearestCentroid', 0.9730337078651685, 0.009052276611328125, 0.0),\n",
       " ('MultinomialNB', 0.9842696629213483, 0.0, 0.015659570693969727),\n",
       " ('BernoulliNB', 0.9730337078651685, 0.015623092651367188, 0.0),\n",
       " ('Pipeline', 0.9887640449438202, 0.24022459983825684, 0.0)]"
      ]
     },
     "execution_count": 8,
     "metadata": {},
     "output_type": "execute_result"
    }
   ],
   "source": [
    "classifier.test_classifier()"
   ]
  },
  {
   "cell_type": "markdown",
   "metadata": {},
   "source": [
    "We can find that SGDClassfiers performs best. Let us create an SGDClassifier.\n"
   ]
  },
  {
   "cell_type": "code",
   "execution_count": 13,
   "metadata": {},
   "outputs": [
    {
     "name": "stdout",
     "output_type": "stream",
     "text": [
      "================================================================================\n",
      "L2 penalty\n",
      "Training: \n",
      "SGDClassifier(alpha=0.0001, average=False, class_weight=None, epsilon=0.1,\n",
      "       eta0=0.0, fit_intercept=True, l1_ratio=0.15,\n",
      "       learning_rate='optimal', loss='hinge', max_iter=None, n_iter=50,\n",
      "       n_jobs=1, penalty='l2', power_t=0.5, random_state=None,\n",
      "       shuffle=True, tol=None, verbose=0, warm_start=False)\n",
      "train time: 0.154s\n",
      "test time:  0.000s\n",
      "accuracy:   0.989\n",
      "dimensionality: 26618\n",
      "density: 0.667811\n",
      "\n",
      "\n",
      "Saved  C:\\summit_server\\BusinessAnalytics\\jupyter_files\\bow\\bbc\\sgd_clf.pkl\n"
     ]
    },
    {
     "name": "stderr",
     "output_type": "stream",
     "text": [
      "c:\\users\\administrator\\summit\\venv\\lib\\site-packages\\sklearn\\linear_model\\stochastic_gradient.py:117: DeprecationWarning: n_iter parameter is deprecated in 0.19 and will be removed in 0.21. Use max_iter and tol instead.\n",
      "  DeprecationWarning)\n"
     ]
    },
    {
     "data": {
      "text/plain": [
       "('SGDClassifier', 0.9887640449438202, 0.15364646911621094, 0.0)"
      ]
     },
     "execution_count": 13,
     "metadata": {},
     "output_type": "execute_result"
    }
   ],
   "source": [
    "classifier.select_sgdclf(penalty='l2', store=True)"
   ]
  },
  {
   "cell_type": "markdown",
   "metadata": {},
   "source": [
    "Let us test couple of random articles from a web and see how our model classifies. We first load our saved vectorizer  and classifier using joblib."
   ]
  },
  {
   "cell_type": "code",
   "execution_count": 19,
   "metadata": {},
   "outputs": [
    {
     "data": {
      "text/plain": [
       "'sport'"
      ]
     },
     "execution_count": 19,
     "metadata": {},
     "output_type": "execute_result"
    }
   ],
   "source": [
    "vectorizer = joblib.load('vectorizer.pkl')\n",
    "clf = joblib.load('sgd_clf.pkl')"
   ]
  },
  {
   "cell_type": "markdown",
   "metadata": {},
   "source": [
    "Then we took a random article from a web which clearly talks about sport and feed it to our classifier."
   ]
  },
  {
   "cell_type": "code",
   "execution_count": 20,
   "metadata": {},
   "outputs": [
    {
     "data": {
      "text/plain": [
       "'sport'"
      ]
     },
     "execution_count": 20,
     "metadata": {},
     "output_type": "execute_result"
    }
   ],
   "source": [
    "unseen_text = [\"ALAMEDA, California — Kerri Walsh Jennings will call it a career in beach volleyball after the Tokyo Olympics in two years. She has big plans before her days on the sand are done, and for improving the long-term health and growth of the sport well into the future by creating new playing opportunities in the US. The three-time Olympic gold medalist absolutely expects to go out with another gold around her neck from the 2020 Games after she and partner April Ross wound up with bronze at Rio in 2016, a heartbreaking disappointment that still stings for Walsh Jennings yet fuels her at the same time. \\\"I haven't shouted it from the mountaintops,\\\" Walsh Jennings said on Thursday (Friday, Manila time) of her career timeline in a wide-ranging interview with The Associated Press. It may sound like a daunting task ahead: Walsh Jennings will turn 42 during the next Olympics. She has yet to settle on a partner though she has narrowed down her choice to two women. She is also coming off a pair of surgeries last year on her right shoulder and left ankle. Just three weeks ago she began using the shoulder to hit the ball with her usual power and motion. \\\"I have no partner. I just came off two surgeries, and I know I'm going to win gold in Tokyo,\\\" she said emphatically of her Olympic hurrah despite her share of lows in recent years. \\\"... It makes this one and this journey that much more meaningful.\\\" Back home in the Bay Area to promote her upcoming beach volleyball extravaganza — \\\"it's a movement\\\" she says — to be held at the San Jose Earthquakes' Avaya Stadium in late September.\"]\n",
    "unseen_vect = vectorizer.transform(unseen_text)\n",
    "pred = clf.predict(unseen_vect)\n",
    "pred[0]"
   ]
  },
  {
   "cell_type": "code",
   "execution_count": null,
   "metadata": {},
   "outputs": [],
   "source": []
  }
 ],
 "metadata": {
  "kernelspec": {
   "display_name": "Python 3",
   "language": "python",
   "name": "python3"
  },
  "language_info": {
   "codemirror_mode": {
    "name": "ipython",
    "version": 3
   },
   "file_extension": ".py",
   "mimetype": "text/x-python",
   "name": "python",
   "nbconvert_exporter": "python",
   "pygments_lexer": "ipython3",
   "version": "3.6.4"
  }
 },
 "nbformat": 4,
 "nbformat_minor": 2
}
